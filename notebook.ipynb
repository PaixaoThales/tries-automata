{
 "cells": [
  {
   "cell_type": "markdown",
   "metadata": {},
   "source": [
    "### Instalacao de Bibliotecas\n",
    "\n",
    "O script utiliza a versao do python 3.12.2"
   ]
  },
  {
   "cell_type": "code",
   "execution_count": 2,
   "metadata": {},
   "outputs": [
    {
     "name": "stdout",
     "output_type": "stream",
     "text": [
      "Requirement already satisfied: automathon in ./venv/lib/python3.12/site-packages (0.0.13)\n",
      "Requirement already satisfied: graphviz==0.16 in ./venv/lib/python3.12/site-packages (from automathon) (0.16)\n",
      "Note: you may need to restart the kernel to use updated packages.\n"
     ]
    }
   ],
   "source": [
    "%pip install automathon --upgrade"
   ]
  },
  {
   "cell_type": "markdown",
   "metadata": {},
   "source": [
    "### Leitura das Palvras"
   ]
  },
  {
   "cell_type": "code",
   "execution_count": 3,
   "metadata": {},
   "outputs": [],
   "source": [
    "words = []\n",
    "with open(\"./resources/commons.txt\") as commons:\n",
    "    while word := commons.readline():\n",
    "        words.append(word.strip())"
   ]
  },
  {
   "cell_type": "markdown",
   "metadata": {},
   "source": [
    "### Trie (Arvore de prefixos)\n",
    "\n",
    "Uma trie ou arvore de prefixos e uma estrutura de dados que armazena cadeias de simbolos de maneira eficiente, pense que voce tem um conjunto de palavras para armazenar como: ['carro', 'carrinho', 'caminhao'] repare que algumas delas tem um mesmo prefixo isso ja te da uma dica que uma boa forma de armazenamento seria algo que guardasse o prefixo uma so vez, vale a pena notar que armazenar as palavras em uma lista tambem pode ser custoso para verificar se uma dada palavra pertence ou nao ao conjunto.\n",
    "\n",
    "Dito isso veja como uma trie armazenaria aquele conjunto:\n",
    "\n",
    "\n",
    "\n",
    "```python\n",
    "type Trie = dict[str, Trie]\n",
    "def insert(trie: Trie, word: str) -> None:\n",
    "def search(trie: Trie, prefix: str) -> bool:\n",
    "```\n",
    "\n",
    "Vamos discutir abaixo cada um desses metodos."
   ]
  },
  {
   "cell_type": "code",
   "execution_count": 4,
   "metadata": {},
   "outputs": [],
   "source": [
    "# Define o tipo Trie para nosso notebook\n",
    "from typing import NamedTuple\n",
    "\n",
    "type trie = dict[str, trie] # Aqui definimos apenas o tipo recursivamente\n",
    "Trie = NamedTuple(\"Trie\", [(\"root\", dict[str, trie])])"
   ]
  },
  {
   "cell_type": "markdown",
   "metadata": {},
   "source": [
    "#### Trie (Insert Method)\n",
    "\n",
    "\n",
    "Durante as insercoes podemos ler a cadeia de simbolos da palvra e verificar se a cada simbolo de entrada ja existe uma transicao para ele no nosso estado atual, logo temos dois casos:\n",
    "\n",
    "- Durante a leitura de simbolos encontramos uma transicao nao mapeada (1)\n",
    "- Durante a leitura de simbolos todas as transicoes foram mapeadas (2)\n"
   ]
  },
  {
   "cell_type": "code",
   "execution_count": 5,
   "metadata": {},
   "outputs": [],
   "source": [
    "def insert(trie: Trie, word: str) -> None:\n",
    "    \"\"\"\n",
    "    O tratamento de transicoes nao mapeadas ocorre com a chamada setdefault(letter, {}),\n",
    "    se a transicao nao existe (1) ele cria um novo dicionario que vai\n",
    "    armazenar a trie contendo as transicoes a partir daquela transicao criando um\n",
    "    novo ramo na trie, caso a transicao exista (2) o ramo criado previamente\n",
    "    criado e reaproveitado.\n",
    "    \n",
    "    Por fim setdefault(\".\") indica que o node current e \n",
    "    folha ou terminal.\n",
    "    \"\"\"\n",
    "    current = trie.root\n",
    "    for letter in word:\n",
    "        current = current.setdefault(letter, {})\n",
    "    current.setdefault(\".\")"
   ]
  },
  {
   "cell_type": "markdown",
   "metadata": {},
   "source": [
    "#### Trie (Search Method)\n",
    "\n",
    "Repare que em uma busca (search) podemos processar uma consulta de prefixos, isto e, de acordo com a definicao que tivemos na disciplina de automatos um prefixo e \"qualquer sequencia inicial de simbolos de uma palavra\" que tambem inclui a propria palavra, portanto a estrutura de dados trie nos fornece duas informacoes quando executamos uma busca:\n",
    "\n",
    "- Se uma palvra existe \n",
    "- Se um prefixo existe"
   ]
  },
  {
   "cell_type": "code",
   "execution_count": 6,
   "metadata": {},
   "outputs": [],
   "source": [
    "def search(trie: Trie, prefix: str) -> bool:\n",
    "    node = trie.root\n",
    "    for letter in prefix:\n",
    "        if letter not in node:\n",
    "            return False\n",
    "        node = node[letter]\n",
    "    return '.' in node"
   ]
  },
  {
   "cell_type": "markdown",
   "metadata": {},
   "source": [
    "### Automatos Finitos Deterministicos (AFD)\n",
    "\n",
    "Um AFD pode ser reprsentado por uma 5-tupla ordernada da forma (Σ, Q, δ, q0, F), onde:\n",
    "\n",
    "-  Σ: Conjunto de Simbolos\n",
    "-  Q: Conjunto de Estados\n",
    "-  δ: Funcao de Transicao\n",
    "- q0: Estado Inicial\n",
    "-  F: Conjunto de Estados Finais\n",
    "\n",
    "Note que e uma estrutura com um formalismo muito maior quando comparada com a Trie, pois precisamos definir um conjunto alfabeto, a funcao de transicao, o estado inicial, o conjunto de estados e um conjunto de estados finais.\n",
    "\n",
    "Vamos definir seu tipo abaixo:"
   ]
  },
  {
   "cell_type": "code",
   "execution_count": 19,
   "metadata": {},
   "outputs": [],
   "source": [
    "# Define todos os tipos necessarios para construcao de um AFD\n",
    "from dataclasses import dataclass, field\n",
    "\n",
    "@dataclass \n",
    "class AFD: \n",
    "    Σ: set[str] = field(default_factory=set)\n",
    "    Q: set[str] = field(default_factory=set)\n",
    "    δ: dict[str, dict[str, str]] = field(default_factory=dict)\n",
    "    q0: str = '0'\n",
    "    F: set[str] = field(default_factory=set)"
   ]
  },
  {
   "cell_type": "markdown",
   "metadata": {},
   "source": [
    "#### AFD (Accept Method)\n",
    "\n",
    "Um automato eh uma estrutura de processamento muito simples, temos apenas uma oeperacao que indica a aceitacao ou nao de uma determinada palavra pertencente a uma determinada linguagem e ela tem a seguinte assinatura:\n",
    "\n",
    "```python\n",
    "def accept(afd: AFD, word: str) -> bool\n",
    "```\n",
    "\n",
    "Abaixo temos a implementacao dessa operacao, repare que a aceitacao de uma determinada palavra esta condicionada ao processamento de toda a palavra por meio de transicoes disponiveis em __δ__ e o estado de parada pertencer ao __F__ conjunto de estados finais do __AFD__."
   ]
  },
  {
   "cell_type": "code",
   "execution_count": 8,
   "metadata": {},
   "outputs": [],
   "source": [
    "def accept(afd: AFD, word: str) -> bool:\n",
    "    actual = afd.q0\n",
    "    for symbol in word:\n",
    "        if symbol in afd.δ[actual]:\n",
    "            actual = afd.δ[actual][symbol]\n",
    "        else:\n",
    "            return False\n",
    "    return actual in afd.F"
   ]
  },
  {
   "cell_type": "markdown",
   "metadata": {},
   "source": [
    "#### Construindo um AFD\n",
    "\n",
    "Abaixo vamos construir um AFD com os principios de construcao de uma Trie.\n",
    "\n",
    "Perceba que todo item da 5-upla ordenada de um AFD pode ser construido enquanto estamos lendo as palavras de uma dada linguagem, sendo assim o algoritmo de construcao da Trie vai ser adaptado para construcao do nosso AFD.\n",
    "\n"
   ]
  },
  {
   "cell_type": "code",
   "execution_count": 59,
   "metadata": {},
   "outputs": [],
   "source": [
    "def build(afd: AFD, language: set[str]) -> None:\n",
    "    pass"
   ]
  },
  {
   "cell_type": "code",
   "execution_count": 60,
   "metadata": {},
   "outputs": [
    {
     "name": "stdout",
     "output_type": "stream",
     "text": [
      "{0: {}, '0': {'c': '1'}, '1': {'a': '2'}, '2': {'r': '3', 'm': '8'}, '3': {'r': '4', 'i': '8'}, '4': {'o': '5', 'i': '5', 'n': '8'}, '5': {'n': '6', 'h': '8'}, '6': {'h': '7', 'a': '8'}, '7': {'o': '8'}, '8': {}}\n"
     ]
    }
   ],
   "source": [
    "from automathon import DFA\n",
    "\n",
    "afd = AFD(set(), set(), dict(), '0', set())\n",
    "build(afd, ['carro', 'carrinho', 'caminhao']) \n",
    "\n",
    "aut = DFA(afd.Q, afd.Σ, afd.δ, afd.q0, afd.F)\n",
    "print(afd.δ)"
   ]
  },
  {
   "cell_type": "code",
   "execution_count": 61,
   "metadata": {},
   "outputs": [],
   "source": [
    "aut.view('test')"
   ]
  }
 ],
 "metadata": {
  "kernelspec": {
   "display_name": ".venv",
   "language": "python",
   "name": "python3"
  },
  "language_info": {
   "codemirror_mode": {
    "name": "ipython",
    "version": 3
   },
   "file_extension": ".py",
   "mimetype": "text/x-python",
   "name": "python",
   "nbconvert_exporter": "python",
   "pygments_lexer": "ipython3",
   "version": "3.12.2"
  }
 },
 "nbformat": 4,
 "nbformat_minor": 2
}
