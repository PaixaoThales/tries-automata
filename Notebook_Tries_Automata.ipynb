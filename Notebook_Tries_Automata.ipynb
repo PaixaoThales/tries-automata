{
  "cells": [
    {
      "cell_type": "markdown",
      "metadata": {
        "id": "view-in-github",
        "colab_type": "text"
      },
      "source": [
        "<a href=\"https://colab.research.google.com/github/PaixaoThales/tries-automata/blob/main/Notebook_Tries_Automata.ipynb\" target=\"_parent\"><img src=\"https://colab.research.google.com/assets/colab-badge.svg\" alt=\"Open In Colab\"/></a>"
      ]
    },
    {
      "cell_type": "markdown",
      "metadata": {
        "id": "140LEdC8BSN5"
      },
      "source": [
        "### Instalação de Bibliotecas\n",
        "\n",
        "O script utiliza a versão do python 3.12.2"
      ]
    },
    {
      "cell_type": "code",
      "execution_count": 1,
      "metadata": {
        "id": "SI8fPn_tBSN7",
        "colab": {
          "base_uri": "https://localhost:8080/"
        },
        "outputId": "68e4738e-9bcf-4616-e62a-2a2477baaf21"
      },
      "outputs": [
        {
          "output_type": "stream",
          "name": "stdout",
          "text": [
            "Collecting automathon\n",
            "  Downloading automathon-0.0.15-py3-none-any.whl (13 kB)\n",
            "Requirement already satisfied: ipywidgets in /usr/local/lib/python3.10/dist-packages (7.7.1)\n",
            "Collecting ipywidgets\n",
            "  Downloading ipywidgets-8.1.2-py3-none-any.whl (139 kB)\n",
            "\u001b[2K     \u001b[90m━━━━━━━━━━━━━━━━━━━━━━━━━━━━━━━━━━━━━━━━\u001b[0m \u001b[32m139.4/139.4 kB\u001b[0m \u001b[31m926.1 kB/s\u001b[0m eta \u001b[36m0:00:00\u001b[0m\n",
            "\u001b[?25hCollecting graphviz==0.16 (from automathon)\n",
            "  Downloading graphviz-0.16-py2.py3-none-any.whl (19 kB)\n",
            "Collecting comm>=0.1.3 (from ipywidgets)\n",
            "  Downloading comm-0.2.2-py3-none-any.whl (7.2 kB)\n",
            "Requirement already satisfied: ipython>=6.1.0 in /usr/local/lib/python3.10/dist-packages (from ipywidgets) (7.34.0)\n",
            "Requirement already satisfied: traitlets>=4.3.1 in /usr/local/lib/python3.10/dist-packages (from ipywidgets) (5.7.1)\n",
            "Collecting widgetsnbextension~=4.0.10 (from ipywidgets)\n",
            "  Downloading widgetsnbextension-4.0.10-py3-none-any.whl (2.3 MB)\n",
            "\u001b[2K     \u001b[90m━━━━━━━━━━━━━━━━━━━━━━━━━━━━━━━━━━━━━━━━\u001b[0m \u001b[32m2.3/2.3 MB\u001b[0m \u001b[31m14.7 MB/s\u001b[0m eta \u001b[36m0:00:00\u001b[0m\n",
            "\u001b[?25hRequirement already satisfied: jupyterlab-widgets~=3.0.10 in /usr/local/lib/python3.10/dist-packages (from ipywidgets) (3.0.10)\n",
            "Requirement already satisfied: setuptools>=18.5 in /usr/local/lib/python3.10/dist-packages (from ipython>=6.1.0->ipywidgets) (67.7.2)\n",
            "Collecting jedi>=0.16 (from ipython>=6.1.0->ipywidgets)\n",
            "  Downloading jedi-0.19.1-py2.py3-none-any.whl (1.6 MB)\n",
            "\u001b[2K     \u001b[90m━━━━━━━━━━━━━━━━━━━━━━━━━━━━━━━━━━━━━━━━\u001b[0m \u001b[32m1.6/1.6 MB\u001b[0m \u001b[31m53.2 MB/s\u001b[0m eta \u001b[36m0:00:00\u001b[0m\n",
            "\u001b[?25hRequirement already satisfied: decorator in /usr/local/lib/python3.10/dist-packages (from ipython>=6.1.0->ipywidgets) (4.4.2)\n",
            "Requirement already satisfied: pickleshare in /usr/local/lib/python3.10/dist-packages (from ipython>=6.1.0->ipywidgets) (0.7.5)\n",
            "Requirement already satisfied: prompt-toolkit!=3.0.0,!=3.0.1,<3.1.0,>=2.0.0 in /usr/local/lib/python3.10/dist-packages (from ipython>=6.1.0->ipywidgets) (3.0.43)\n",
            "Requirement already satisfied: pygments in /usr/local/lib/python3.10/dist-packages (from ipython>=6.1.0->ipywidgets) (2.16.1)\n",
            "Requirement already satisfied: backcall in /usr/local/lib/python3.10/dist-packages (from ipython>=6.1.0->ipywidgets) (0.2.0)\n",
            "Requirement already satisfied: matplotlib-inline in /usr/local/lib/python3.10/dist-packages (from ipython>=6.1.0->ipywidgets) (0.1.6)\n",
            "Requirement already satisfied: pexpect>4.3 in /usr/local/lib/python3.10/dist-packages (from ipython>=6.1.0->ipywidgets) (4.9.0)\n",
            "Requirement already satisfied: parso<0.9.0,>=0.8.3 in /usr/local/lib/python3.10/dist-packages (from jedi>=0.16->ipython>=6.1.0->ipywidgets) (0.8.4)\n",
            "Requirement already satisfied: ptyprocess>=0.5 in /usr/local/lib/python3.10/dist-packages (from pexpect>4.3->ipython>=6.1.0->ipywidgets) (0.7.0)\n",
            "Requirement already satisfied: wcwidth in /usr/local/lib/python3.10/dist-packages (from prompt-toolkit!=3.0.0,!=3.0.1,<3.1.0,>=2.0.0->ipython>=6.1.0->ipywidgets) (0.2.13)\n",
            "Installing collected packages: widgetsnbextension, jedi, graphviz, comm, automathon, ipywidgets\n",
            "  Attempting uninstall: widgetsnbextension\n",
            "    Found existing installation: widgetsnbextension 3.6.6\n",
            "    Uninstalling widgetsnbextension-3.6.6:\n",
            "      Successfully uninstalled widgetsnbextension-3.6.6\n",
            "  Attempting uninstall: graphviz\n",
            "    Found existing installation: graphviz 0.20.3\n",
            "    Uninstalling graphviz-0.20.3:\n",
            "      Successfully uninstalled graphviz-0.20.3\n",
            "  Attempting uninstall: ipywidgets\n",
            "    Found existing installation: ipywidgets 7.7.1\n",
            "    Uninstalling ipywidgets-7.7.1:\n",
            "      Successfully uninstalled ipywidgets-7.7.1\n",
            "Successfully installed automathon-0.0.15 comm-0.2.2 graphviz-0.16 ipywidgets-8.1.2 jedi-0.19.1 widgetsnbextension-4.0.10\n"
          ]
        }
      ],
      "source": [
        "%pip install automathon ipywidgets --upgrade"
      ]
    },
    {
      "cell_type": "markdown",
      "metadata": {
        "id": "tGKM2JHIBSN-"
      },
      "source": [
        "### Trie (Árvore de prefixos)\n",
        "\n",
        "Uma trie ou árvore de prefixos é uma estrutura de dados que armazena cadeias de símbolos de maneira eficiente. Pense que você tem um conjunto de palavras para armazenar como: ['carro', 'carrinho', 'caminhão']. Repare que algumas delas tem um mesmo prefixo, isso já te dá uma dica de que uma boa forma de armazenamento seria algo que guardasse o prefixo de uma só vez. Vale a pena notar que armazenar as palavras em uma lista também pode ser custoso para verificar se uma dada palavra pertence ou não ao conjunto.\n",
        "\n",
        "Dito isso, veja como uma trie armazenaria aquele conjunto:\n",
        "\n",
        "\n",
        "\n",
        "```python\n",
        "type Trie = dict[str, Trie]\n",
        "def insert(trie: Trie, word: str) -> None:\n",
        "def search(trie: Trie, prefix: str) -> bool:\n",
        "```\n",
        "\n",
        "Vamos discutir abaixo cada um desses métodos."
      ]
    },
    {
      "cell_type": "code",
      "execution_count": 2,
      "metadata": {
        "id": "ot7Ir0eyBSN_"
      },
      "outputs": [],
      "source": [
        "# Define o tipo Trie para nosso notebook\n",
        "from typing import NamedTuple, Any\n",
        "\n",
        "Trie = NamedTuple(\"Trie\", [(\"root\", dict[str, Any])])"
      ]
    },
    {
      "cell_type": "markdown",
      "metadata": {
        "id": "JQNy7jFxBSN_"
      },
      "source": [
        "#### Trie (Insert Method)\n",
        "\n",
        "Durante as inserções podemos ler a cadeia de símbolos da palavra e verificar se, a cada símbolo de entrada, já existe uma transição para ele no nosso estado atual, logo temos três casos e usando as palavras *though*, *thought* e *tough* podemos exemplificar:\n",
        "\n",
        "\n",
        "- Inserindo na árvore vazia (1)\n",
        "\n",
        "![Alt Text](https://media.giphy.com/media/v1.Y2lkPTc5MGI3NjExaTNyOGQ1ZWNoeGpzbzJjOWU4dm9pa2JraXB1MWtpa2JzY2V0bHYzZiZlcD12MV9pbnRlcm5hbF9naWZfYnlfaWQmY3Q9Zw/uZE4FDIKy2lOrAt3pe/giphy.gif)\n",
        "\n",
        "- Durante a leitura de símbolos encontramos uma transição não mapeada, aproveita o caminho do prefixo e cria um novo nó final (2)\n",
        "\n",
        "![Alt Text](https://media.giphy.com/media/v1.Y2lkPTc5MGI3NjExYWt4dmR5eTdobDZlaTJ2ZGVxMnJ4aW55eXd2MGRndHU4aHlkb2J4bCZlcD12MV9pbnRlcm5hbF9naWZfYnlfaWQmY3Q9Zw/AjA6JEoKNMwklWAxb2/giphy.gif)\n",
        "\n",
        "- Durante a leitura de símbolos todas as transições foram mapeadas, criando um novo ramo (3)\n",
        "\n",
        "![Alt Text](https://media.giphy.com/media/v1.Y2lkPTc5MGI3NjExbmN4Mm92cDQyNDRrdHpxeGx5MXFzMGN0d3FqdzhsMjV5OTg0cGV3ZyZlcD12MV9pbnRlcm5hbF9naWZfYnlfaWQmY3Q9Zw/xrfh381hD8m3vAYBan/giphy.gif)\n"
      ]
    },
    {
      "cell_type": "code",
      "execution_count": 3,
      "metadata": {
        "id": "pXxcMwsXBSN_"
      },
      "outputs": [],
      "source": [
        "def insert(trie: Trie, word: str) -> None:\n",
        "    current = trie.root\n",
        "    for letter in word:\n",
        "        current = current.setdefault(letter, {})\n",
        "    current.setdefault(\".\")"
      ]
    },
    {
      "cell_type": "markdown",
      "metadata": {
        "id": "pEMxwUzWBSOA"
      },
      "source": [
        "#### Trie (Search Method)\n",
        "\n",
        "Repare que em uma busca (search) podemos processar uma consulta de prefixos, isto é, de acordo com a definição que tivemos na disciplina de autômatos, um prefixo é \"qualquer sequência inicial de símbolos de uma palavra\" , incluindo a própria palavra. Portanto, a estrutura de dados trie nos fornece duas informações quando executamos uma busca:\n",
        "\n",
        "- Se uma palavra existe\n",
        "- Se um prefixo existe"
      ]
    },
    {
      "cell_type": "code",
      "execution_count": 4,
      "metadata": {
        "id": "MiHo9SpPBSOA"
      },
      "outputs": [],
      "source": [
        "def search(trie: Trie, prefix: str) -> bool:\n",
        "    node = trie.root\n",
        "    for letter in prefix:\n",
        "        if letter not in node:\n",
        "            return False\n",
        "        node = node[letter]\n",
        "    return '.' in node"
      ]
    },
    {
      "cell_type": "markdown",
      "metadata": {
        "id": "jf7CJyeMBSOA"
      },
      "source": [
        "### Autômatos Finitos Determinísticos (AFD)\n",
        "\n",
        "Um AFD pode ser representado por uma 5-tupla ordernada da forma (Σ, Q, δ, q0, F), onde:\n",
        "\n",
        "-  Σ: Conjunto de Símbolos\n",
        "-  Q: Conjunto de Estados\n",
        "-  δ: Função de Transição\n",
        "- q0: Estado Inicial\n",
        "-  F: Conjunto de Estados Finais\n",
        "\n",
        "[SIPSER 2005]\n",
        "\n",
        "Note que é uma estrutura com um formalismo muito maior quando comparada com a Trie, pois precisamos definir um conjunto alfabeto, a função de transição, o estado inicial, o conjunto de estados e um conjunto de estados finais.\n",
        "\n",
        "Vamos definir seu tipo abaixo:"
      ]
    },
    {
      "cell_type": "code",
      "execution_count": 5,
      "metadata": {
        "id": "0fYSnKs5BSOB"
      },
      "outputs": [],
      "source": [
        "# Define todos os tipos necessarios para construcao de um AFD\n",
        "from dataclasses import dataclass, field\n",
        "\n",
        "@dataclass\n",
        "class AFD:\n",
        "    Σ: set[str] = field(default_factory=set)\n",
        "    Q: set[str] = field(default_factory=set)\n",
        "    δ: dict[str, dict[str, str]] = field(default_factory=dict)\n",
        "    q0: str = '0'\n",
        "    F: set[str] = field(default_factory=set)\n",
        "    __next__: int = 0\n",
        "\n",
        "    def __post_init__(self):\n",
        "        self.add_state()\n",
        "\n",
        "    def add_state(self) -> None:\n",
        "        state = self.__next__\n",
        "        self.δ[str(state)] = {}\n",
        "        self.__next__ += 1\n",
        "        return state\n",
        "\n",
        "    def add_transition(self, state: int, symbol: str, to: int) -> None:\n",
        "        self.δ[str(state)][symbol] = str(to)\n",
        "\n",
        "    def add_accept_state(self, state: int) -> None:\n",
        "        self.F.add(state)\n"
      ]
    },
    {
      "cell_type": "markdown",
      "metadata": {
        "id": "nAMNaixaBSOB"
      },
      "source": [
        "#### AFD (Accept Method)\n",
        "\n",
        "Um autômato é uma estrutura de processamento muito simples, temos apenas uma operação que indica a aceitação ou não de uma determinada palavra pertencente a uma determinada linguagem e ela tem a seguinte assinatura:\n",
        "\n",
        "```python\n",
        "def accept(afd: AFD, word: str) -> bool\n",
        "```\n",
        "\n",
        "Abaixo temos a implementação dessa operação. Repare que a aceitação de uma determinada palavra está condicionada ao processamento de toda a palavra por meio de transições disponíveis em __δ__ e o estado de parada pertencer à __F__, conjunto de estados finais do __AFD__."
      ]
    },
    {
      "cell_type": "code",
      "execution_count": 6,
      "metadata": {
        "id": "N5ke22j_BSOB"
      },
      "outputs": [],
      "source": [
        "def accept(afd: AFD, word: str) -> bool:\n",
        "    actual = afd.q0\n",
        "    for symbol in word:\n",
        "      if symbol in afd.δ[actual]:\n",
        "        actual = afd.δ[actual][symbol]\n",
        "      else:\n",
        "        return False\n",
        "    return actual in afd.F"
      ]
    },
    {
      "cell_type": "markdown",
      "metadata": {
        "id": "Mx8jnwO4BSOB"
      },
      "source": [
        "#### Construindo um AFD\n",
        "\n",
        "Abaixo vamos construir um AFD com os princípios de construção de uma Trie.\n",
        "\n",
        "Perceba que todo item da 5-upla ordenada de um AFD pode ser construído enquanto estamos lendo as palavras de uma dada linguagem, sendo assim, o algoritmo de construção da Trie vai ser adaptado para construção do nosso AFD.\n",
        "\n",
        "Podemos utilizar qualquer conjunto de palavras no código para montar a linguagem.\n",
        "\n"
      ]
    },
    {
      "cell_type": "markdown",
      "source": [
        "#### Insert (Method)\n",
        "\n",
        "Vamos usar essa função como algo muito próximo ao que temos na função insert da Trie, no entanto, perceba que ela irá fazer mais chamadas, pois ao adicionar uma nova palavra para ser aceita pelo autômato uma serie de itens da 5-upla do AFD podem ser alterados.\n",
        "\n",
        "```python\n",
        "def insert(afd: AFD, word: str) -> None\n",
        "```"
      ],
      "metadata": {
        "id": "UFKbwupaKXwt"
      }
    },
    {
      "cell_type": "markdown",
      "source": [
        "Abaixo temos a implementação da função que insere uma palavra que deve ser aceita pelo autômato."
      ],
      "metadata": {
        "id": "XBAP3UVDLkUm"
      }
    },
    {
      "cell_type": "code",
      "source": [
        "def insert(afd: AFD, word: str) -> None:\n",
        "  state = afd.q0\n",
        "  for symbol in word:\n",
        "    next_state = None\n",
        "    transitions = afd.δ.setdefault(str(state), {})\n",
        "    if symbol not in transitions:\n",
        "      next_state = afd.add_state()\n",
        "      afd.add_transition(state, symbol, next_state)\n",
        "    else:\n",
        "      next_state = transitions[symbol]\n",
        "      state = next_state\n",
        "  afd.add_accept_state(str(state))"
      ],
      "metadata": {
        "id": "RapJ1oiNKXIs"
      },
      "execution_count": 7,
      "outputs": []
    },
    {
      "cell_type": "markdown",
      "source": [
        "Com a função de inserção feita podemos construir o autômato passando uma linguagem, esta por sua vez é formada por um conjunto de palavras que devem ser aceitas pelo autômato."
      ],
      "metadata": {
        "id": "FkNu9V2VLuRs"
      }
    },
    {
      "cell_type": "code",
      "execution_count": 8,
      "metadata": {
        "id": "6KUsRZhnBSOB"
      },
      "outputs": [],
      "source": [
        "def build(language: set[str]) -> AFD:\n",
        "  afd = AFD()\n",
        "  for word in language:\n",
        "        state = afd.q0\n",
        "        for symbol in word:\n",
        "            next_state = None\n",
        "            transitions = afd.δ.setdefault(str(state), {})\n",
        "            if symbol not in transitions:\n",
        "                next_state = afd.add_state()\n",
        "                afd.add_transition(state, symbol, next_state)\n",
        "            else:\n",
        "              next_state = transitions[symbol]\n",
        "            state = next_state\n",
        "        afd.add_accept_state(str(state))\n",
        "  return afd"
      ]
    },
    {
      "cell_type": "markdown",
      "source": [
        "## Construção do Autômato ##"
      ],
      "metadata": {
        "id": "s5hgUI3FkVql"
      }
    },
    {
      "cell_type": "code",
      "source": [
        "from ipywidgets import interact, Text\n",
        "from automathon import DFA\n",
        "from urllib.request import urlopen\n",
        "\n",
        "def most_common_words() -> set[str]:\n",
        "  words = set()\n",
        "  link_file = 'https://raw.githubusercontent.com/PaixaoThales/tries-automata/main/top-1000-commons.txt'\n",
        "  with urlopen(link_file) as data:\n",
        "    for line in data:\n",
        "        words.add(line.decode('utf-8').strip())\n",
        "  return words\n",
        "\n",
        "def words() -> set[str]:\n",
        "  return ['tough', 'though', 'thought', 'thorough', 'through', 'throughout']\n",
        "\n",
        "def make(option: str) -> None:\n",
        "  global afd\n",
        "  if option == \"1000 most common words\":\n",
        "    afd = build(most_common_words())\n",
        "  else:\n",
        "    afd = build(words())\n",
        "\n",
        "print(\"Escolha uma Linguagem (x) Para o Automato Reconhecer:\\n\")\n",
        "\n",
        "interact(lambda x: make(x), x=['some words', '1000 most common words']);"
      ],
      "metadata": {
        "id": "qjAT7vsbeg_F",
        "colab": {
          "base_uri": "https://localhost:8080/",
          "height": 84,
          "referenced_widgets": [
            "b3a3062f743c42a4a766885355fae960",
            "cd84bd2e4da04c3cbb9b4e36b8e27eca",
            "6d00ce7036be493d9ad7ce513f3a5e4d",
            "4769178d57a846669df6b2140a26a0b2",
            "af9d5ba0bf444931af6c94e25bfe9093",
            "49231b5eca7f4aa9887ab182b049f648",
            "aad4ee9995824d26955fdc63203001dd"
          ]
        },
        "outputId": "0121f449-e90a-4a45-a099-2e531c6997f4"
      },
      "execution_count": 9,
      "outputs": [
        {
          "output_type": "stream",
          "name": "stdout",
          "text": [
            "Escolha uma Linguagem (x) Para o Automato Reconhecer:\n",
            "\n"
          ]
        },
        {
          "output_type": "display_data",
          "data": {
            "text/plain": [
              "interactive(children=(Dropdown(description='x', options=('some words', '1000 most common words'), value='some …"
            ],
            "application/vnd.jupyter.widget-view+json": {
              "version_major": 2,
              "version_minor": 0,
              "model_id": "b3a3062f743c42a4a766885355fae960"
            }
          },
          "metadata": {}
        }
      ]
    },
    {
      "cell_type": "markdown",
      "source": [
        "## Testes ##"
      ],
      "metadata": {
        "id": "VhYUVFQxETc3"
      }
    },
    {
      "cell_type": "code",
      "source": [
        "from IPython.display import clear_output\n",
        "try:\n",
        "  while True:\n",
        "    clear_output()\n",
        "    word = input(\"Insira uma palavra em ingles e verifique se o automato aceita: \")\n",
        "    if accept(afd, word):\n",
        "      print(f\"A palavra {word} foi aceita.\")\n",
        "    else:\n",
        "      print(f\"A palavra {word} nao foi aceita.\")\n",
        "    option = input(\"Deseja Continuar com testes (Y/n)? \")\n",
        "    if option == \"n\":\n",
        "      break\n",
        "except KeyboardInterrupt:\n",
        "  clear_output()"
      ],
      "metadata": {
        "id": "XCdEpxejDkoB",
        "colab": {
          "base_uri": "https://localhost:8080/"
        },
        "outputId": "4bebf0b8-ac8c-45d6-a993-f49d973936b8"
      },
      "execution_count": 10,
      "outputs": [
        {
          "name": "stdout",
          "output_type": "stream",
          "text": [
            "Insira uma palavra em ingles e verifique se o automato aceita: same\n",
            "A palavra same nao foi aceita.\n",
            "Deseja Continuar com testes (Y/n)? n\n"
          ]
        }
      ]
    },
    {
      "cell_type": "markdown",
      "source": [
        "## Visualização e Minimização do Autômato###\n",
        "\n",
        "Obs: Não recomendamos gerar a visualização caso o AFD esteja configurado para aceitar as 1000 palavras mais comuns do inglês."
      ],
      "metadata": {
        "id": "Ulfg5Gn4EP0e"
      }
    },
    {
      "cell_type": "code",
      "execution_count": 11,
      "metadata": {
        "id": "XU78KWBFBSOC"
      },
      "outputs": [],
      "source": [
        "from automathon import DFA\n",
        "\n",
        "automato = DFA(afd.Q, afd.Σ, afd.δ, afd.q0, afd.F)\n",
        "automato.view('automata')"
      ]
    },
    {
      "cell_type": "markdown",
      "source": [
        "## Créditos ##\n",
        "* Guilherme Rocha Muzi Franco;\n",
        "* Gustavo Eiji Takata;\n",
        "* Thales Cunha da Paixão.\n"
      ],
      "metadata": {
        "id": "OCgFSjzGhzrZ"
      }
    }
  ],
  "metadata": {
    "kernelspec": {
      "display_name": ".venv",
      "language": "python",
      "name": "python3"
    },
    "language_info": {
      "codemirror_mode": {
        "name": "ipython",
        "version": 3
      },
      "file_extension": ".py",
      "mimetype": "text/x-python",
      "name": "python",
      "nbconvert_exporter": "python",
      "pygments_lexer": "ipython3",
      "version": "3.12.2"
    },
    "colab": {
      "provenance": [],
      "toc_visible": true,
      "include_colab_link": true
    },
    "widgets": {
      "application/vnd.jupyter.widget-state+json": {
        "b3a3062f743c42a4a766885355fae960": {
          "model_module": "@jupyter-widgets/controls",
          "model_name": "VBoxModel",
          "model_module_version": "2.0.0",
          "state": {
            "_dom_classes": [
              "widget-interact"
            ],
            "_model_module": "@jupyter-widgets/controls",
            "_model_module_version": "2.0.0",
            "_model_name": "VBoxModel",
            "_view_count": null,
            "_view_module": "@jupyter-widgets/controls",
            "_view_module_version": "2.0.0",
            "_view_name": "VBoxView",
            "box_style": "",
            "children": [
              "IPY_MODEL_cd84bd2e4da04c3cbb9b4e36b8e27eca",
              "IPY_MODEL_6d00ce7036be493d9ad7ce513f3a5e4d"
            ],
            "layout": "IPY_MODEL_4769178d57a846669df6b2140a26a0b2",
            "tabbable": null,
            "tooltip": null
          }
        },
        "cd84bd2e4da04c3cbb9b4e36b8e27eca": {
          "model_module": "@jupyter-widgets/controls",
          "model_name": "DropdownModel",
          "model_module_version": "2.0.0",
          "state": {
            "_dom_classes": [],
            "_model_module": "@jupyter-widgets/controls",
            "_model_module_version": "2.0.0",
            "_model_name": "DropdownModel",
            "_options_labels": [
              "some words",
              "1000 most common words"
            ],
            "_view_count": null,
            "_view_module": "@jupyter-widgets/controls",
            "_view_module_version": "2.0.0",
            "_view_name": "DropdownView",
            "description": "x",
            "description_allow_html": false,
            "disabled": false,
            "index": 0,
            "layout": "IPY_MODEL_af9d5ba0bf444931af6c94e25bfe9093",
            "style": "IPY_MODEL_49231b5eca7f4aa9887ab182b049f648",
            "tabbable": null,
            "tooltip": null
          }
        },
        "6d00ce7036be493d9ad7ce513f3a5e4d": {
          "model_module": "@jupyter-widgets/output",
          "model_name": "OutputModel",
          "model_module_version": "1.0.0",
          "state": {
            "_dom_classes": [],
            "_model_module": "@jupyter-widgets/output",
            "_model_module_version": "1.0.0",
            "_model_name": "OutputModel",
            "_view_count": null,
            "_view_module": "@jupyter-widgets/output",
            "_view_module_version": "1.0.0",
            "_view_name": "OutputView",
            "layout": "IPY_MODEL_aad4ee9995824d26955fdc63203001dd",
            "msg_id": "",
            "outputs": [],
            "tabbable": null,
            "tooltip": null
          }
        },
        "4769178d57a846669df6b2140a26a0b2": {
          "model_module": "@jupyter-widgets/base",
          "model_name": "LayoutModel",
          "model_module_version": "2.0.0",
          "state": {
            "_model_module": "@jupyter-widgets/base",
            "_model_module_version": "2.0.0",
            "_model_name": "LayoutModel",
            "_view_count": null,
            "_view_module": "@jupyter-widgets/base",
            "_view_module_version": "2.0.0",
            "_view_name": "LayoutView",
            "align_content": null,
            "align_items": null,
            "align_self": null,
            "border_bottom": null,
            "border_left": null,
            "border_right": null,
            "border_top": null,
            "bottom": null,
            "display": null,
            "flex": null,
            "flex_flow": null,
            "grid_area": null,
            "grid_auto_columns": null,
            "grid_auto_flow": null,
            "grid_auto_rows": null,
            "grid_column": null,
            "grid_gap": null,
            "grid_row": null,
            "grid_template_areas": null,
            "grid_template_columns": null,
            "grid_template_rows": null,
            "height": null,
            "justify_content": null,
            "justify_items": null,
            "left": null,
            "margin": null,
            "max_height": null,
            "max_width": null,
            "min_height": null,
            "min_width": null,
            "object_fit": null,
            "object_position": null,
            "order": null,
            "overflow": null,
            "padding": null,
            "right": null,
            "top": null,
            "visibility": null,
            "width": null
          }
        },
        "af9d5ba0bf444931af6c94e25bfe9093": {
          "model_module": "@jupyter-widgets/base",
          "model_name": "LayoutModel",
          "model_module_version": "2.0.0",
          "state": {
            "_model_module": "@jupyter-widgets/base",
            "_model_module_version": "2.0.0",
            "_model_name": "LayoutModel",
            "_view_count": null,
            "_view_module": "@jupyter-widgets/base",
            "_view_module_version": "2.0.0",
            "_view_name": "LayoutView",
            "align_content": null,
            "align_items": null,
            "align_self": null,
            "border_bottom": null,
            "border_left": null,
            "border_right": null,
            "border_top": null,
            "bottom": null,
            "display": null,
            "flex": null,
            "flex_flow": null,
            "grid_area": null,
            "grid_auto_columns": null,
            "grid_auto_flow": null,
            "grid_auto_rows": null,
            "grid_column": null,
            "grid_gap": null,
            "grid_row": null,
            "grid_template_areas": null,
            "grid_template_columns": null,
            "grid_template_rows": null,
            "height": null,
            "justify_content": null,
            "justify_items": null,
            "left": null,
            "margin": null,
            "max_height": null,
            "max_width": null,
            "min_height": null,
            "min_width": null,
            "object_fit": null,
            "object_position": null,
            "order": null,
            "overflow": null,
            "padding": null,
            "right": null,
            "top": null,
            "visibility": null,
            "width": null
          }
        },
        "49231b5eca7f4aa9887ab182b049f648": {
          "model_module": "@jupyter-widgets/controls",
          "model_name": "DescriptionStyleModel",
          "model_module_version": "2.0.0",
          "state": {
            "_model_module": "@jupyter-widgets/controls",
            "_model_module_version": "2.0.0",
            "_model_name": "DescriptionStyleModel",
            "_view_count": null,
            "_view_module": "@jupyter-widgets/base",
            "_view_module_version": "2.0.0",
            "_view_name": "StyleView",
            "description_width": ""
          }
        },
        "aad4ee9995824d26955fdc63203001dd": {
          "model_module": "@jupyter-widgets/base",
          "model_name": "LayoutModel",
          "model_module_version": "2.0.0",
          "state": {
            "_model_module": "@jupyter-widgets/base",
            "_model_module_version": "2.0.0",
            "_model_name": "LayoutModel",
            "_view_count": null,
            "_view_module": "@jupyter-widgets/base",
            "_view_module_version": "2.0.0",
            "_view_name": "LayoutView",
            "align_content": null,
            "align_items": null,
            "align_self": null,
            "border_bottom": null,
            "border_left": null,
            "border_right": null,
            "border_top": null,
            "bottom": null,
            "display": null,
            "flex": null,
            "flex_flow": null,
            "grid_area": null,
            "grid_auto_columns": null,
            "grid_auto_flow": null,
            "grid_auto_rows": null,
            "grid_column": null,
            "grid_gap": null,
            "grid_row": null,
            "grid_template_areas": null,
            "grid_template_columns": null,
            "grid_template_rows": null,
            "height": null,
            "justify_content": null,
            "justify_items": null,
            "left": null,
            "margin": null,
            "max_height": null,
            "max_width": null,
            "min_height": null,
            "min_width": null,
            "object_fit": null,
            "object_position": null,
            "order": null,
            "overflow": null,
            "padding": null,
            "right": null,
            "top": null,
            "visibility": null,
            "width": null
          }
        }
      }
    }
  },
  "nbformat": 4,
  "nbformat_minor": 0
}